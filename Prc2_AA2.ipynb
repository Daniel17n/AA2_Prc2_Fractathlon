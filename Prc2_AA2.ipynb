{
 "cells": [
  {
   "cell_type": "markdown",
   "id": "fb81b92b",
   "metadata": {},
   "source": [
    "\n",
    "# Clasificación de Fractales con Redes Neuronales Convolucionales (CNN)\n",
    "\n",
    "En este notebook, aprenderás cómo clasificar fractales utilizando aprendizaje profundo. Usaremos un modelo basado en CNN con **transfer learning**.\n"
   ]
  },
  {
   "cell_type": "markdown",
   "id": "0fc1cc7d",
   "metadata": {},
   "source": [
    "\n",
    "## Paso 1: Preparación y análisis del dataset\n",
    "\n",
    "Cargaremos los datos y visualizaremos algunas imágenes de fractales.\n"
   ]
  },
  {
   "cell_type": "code",
   "execution_count": null,
   "id": "dfbb6744",
   "metadata": {},
   "outputs": [],
   "source": [
    "\n",
    "import pandas as pd\n",
    "import matplotlib.pyplot as plt\n",
    "import os\n",
    "\n",
    "# Cargar datos\n",
    "train_df = pd.read_csv('train.csv')\n",
    "validation_df = pd.read_csv('validation.csv')\n",
    "\n",
    "# Mostrar ejemplos del dataset\n",
    "train_df.head()\n"
   ]
  },
  {
   "cell_type": "markdown",
   "id": "8cbeb497",
   "metadata": {},
   "source": [
    "\n",
    "### Visualización de ejemplos de fractales\n"
   ]
  },
  {
   "cell_type": "code",
   "execution_count": null,
   "id": "5640592e",
   "metadata": {},
   "outputs": [],
   "source": [
    "\n",
    "from PIL import Image\n",
    "\n",
    "def show_images(df, folder='train', num_images=4):\n",
    "    fig, axes = plt.subplots(1, num_images, figsize=(15,5))\n",
    "    for i in range(num_images):\n",
    "        img_path = os.path.join(folder, df.iloc[i]['relative_path'])\n",
    "        image = Image.open(img_path)\n",
    "        axes[i].imshow(image)\n",
    "        axes[i].set_title(df.iloc[i]['fractal'])\n",
    "        axes[i].axis('off')\n",
    "    plt.show()\n",
    "\n",
    "show_images(train_df)\n"
   ]
  },
  {
   "cell_type": "markdown",
   "id": "9eeabef0",
   "metadata": {},
   "source": [
    "\n",
    "## Paso 2: Preprocesamiento de datos y Data Augmentation\n",
    "\n",
    "Utilizaremos técnicas de aumento de datos para mejorar la robustez del modelo.\n"
   ]
  },
  {
   "cell_type": "code",
   "execution_count": null,
   "id": "bef37999",
   "metadata": {},
   "outputs": [],
   "source": [
    "\n",
    "from tensorflow.keras.preprocessing.image import ImageDataGenerator\n",
    "\n",
    "datagen = ImageDataGenerator(rescale=1./255, validation_split=0.1,\n",
    "                             rotation_range=15, zoom_range=0.1,\n",
    "                             horizontal_flip=True, vertical_flip=True)\n",
    "\n",
    "train_generator = datagen.flow_from_dataframe(\n",
    "    dataframe=train_df,\n",
    "    directory='train',\n",
    "    x_col='relative_path',\n",
    "    y_col='fractal',\n",
    "    target_size=(224, 224),\n",
    "    batch_size=32,\n",
    "    subset='training'\n",
    ")\n",
    "\n",
    "validation_generator = datagen.flow_from_dataframe(\n",
    "    dataframe=train_df,\n",
    "    directory='train',\n",
    "    x_col='relative_path',\n",
    "    y_col='fractal',\n",
    "    target_size=(224, 224),\n",
    "    batch_size=32,\n",
    "    subset='validation'\n",
    ")\n"
   ]
  },
  {
   "cell_type": "markdown",
   "id": "a7697dfb",
   "metadata": {},
   "source": [
    "\n",
    "## Paso 3: Definición y entrenamiento del modelo CNN con Transfer Learning\n",
    "\n",
    "Utilizaremos EfficientNetB0 preentrenado en ImageNet.\n"
   ]
  },
  {
   "cell_type": "code",
   "execution_count": null,
   "id": "f722dc1b",
   "metadata": {},
   "outputs": [],
   "source": [
    "\n",
    "from tensorflow.keras.applications import EfficientNetB0\n",
    "from tensorflow.keras.layers import GlobalAveragePooling2D, Dense, Dropout\n",
    "from tensorflow.keras.models import Model\n",
    "\n",
    "base_model = EfficientNetB0(weights='imagenet', include_top=False, input_shape=(224,224,3))\n",
    "base_model.trainable = False\n",
    "\n",
    "x = base_model.output\n",
    "x = GlobalAveragePooling2D()(x)\n",
    "x = Dense(256, activation='relu')(x)\n",
    "x = Dropout(0.3)(x)\n",
    "predictions = Dense(train_df['fractal'].nunique(), activation='softmax')(x)\n",
    "\n",
    "model = Model(inputs=base_model.input, outputs=predictions)\n",
    "model.compile(optimizer='adam', loss='categorical_crossentropy', metrics=['accuracy'])\n",
    "\n",
    "model.summary()\n"
   ]
  },
  {
   "cell_type": "markdown",
   "id": "017c955a",
   "metadata": {},
   "source": [
    "\n",
    "### Entrenamiento del modelo\n"
   ]
  },
  {
   "cell_type": "code",
   "execution_count": null,
   "id": "ec4589f8",
   "metadata": {},
   "outputs": [],
   "source": [
    "\n",
    "history = model.fit(\n",
    "    train_generator,\n",
    "    epochs=10,\n",
    "    validation_data=validation_generator\n",
    ")\n"
   ]
  },
  {
   "cell_type": "markdown",
   "id": "97499c69",
   "metadata": {},
   "source": [
    "\n",
    "## Paso 4: Evaluación del modelo\n",
    "\n",
    "Visualizaremos la precisión del modelo durante el entrenamiento.\n"
   ]
  },
  {
   "cell_type": "code",
   "execution_count": null,
   "id": "18e60419",
   "metadata": {},
   "outputs": [],
   "source": [
    "\n",
    "plt.plot(history.history['accuracy'], label='accuracy')\n",
    "plt.plot(history.history['val_accuracy'], label='val_accuracy')\n",
    "plt.xlabel('Épocas')\n",
    "plt.ylabel('Precisión')\n",
    "plt.legend()\n",
    "plt.show()\n"
   ]
  }
 ],
 "metadata": {},
 "nbformat": 4,
 "nbformat_minor": 5
}
